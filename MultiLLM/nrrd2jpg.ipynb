{
 "cells": [
  {
   "cell_type": "code",
   "execution_count": 3,
   "metadata": {},
   "outputs": [],
   "source": [
    "import os\n",
    "import nrrd\n",
    "import numpy as np\n",
    "import matplotlib.pyplot as plt\n",
    "\n",
    "# 定义输入和输出目录\n",
    "input_dir = \"/mnt/newdisk/MultiLLMdata/data/leshanzhongyi5/data\"  # 替换为你的nii文件所在的文件夹路径\n",
    "output_dir = \"/mnt/newdisk/MultiLLMdata/data/leshanzhongyi5/datajpg\"  # 替换为jpg输出文件夹路径\n",
    "\n",
    "# 遍历每个患者的nrrd文件\n",
    "for nrrd_file in os.listdir(input_dir):\n",
    "    patient_id=nrrd_file.split('.')[0]\n",
    "    # 确保是nrrd文件\n",
    "    if nrrd_file.endswith('.nrrd'):\n",
    "        # 加载nrrd文件\n",
    "        nrrd_path = os.path.join(input_dir, nrrd_file)\n",
    "        img_data, header = nrrd.read(nrrd_path)\n",
    "        \n",
    "        if len(img_data.shape)!=3:\n",
    "            continue\n",
    "\n",
    "        # 创建一个新文件夹为每个患者存储jpg\n",
    "        patient_folder = os.path.join(output_dir, str(patient_id))\n",
    "        os.makedirs(patient_folder,exist_ok=True)\n",
    "\n",
    "        # 遍历每个切片并保存为jpg\n",
    "        for slice_idx in range(img_data.shape[2]):\n",
    "            slice_data=img_data[:,:,slice_idx]\n",
    "            slice_data = np.rot90(slice_data)  # 旋转图像，使其方向正确\n",
    "            jpg_filename = os.path.join(patient_folder, f'slice_{slice_idx+1}.jpg')\n",
    "\n",
    "            plt.imsave(jpg_filename, slice_data, cmap='gray')\n",
    "\n",
    "        print(f\"已保存患者 {patient_id} 的所有切片为 JPG。\")\n"
   ]
  },
  {
   "cell_type": "code",
   "execution_count": 8,
   "metadata": {},
   "outputs": [],
   "source": [
    "import os\n",
    "import nrrd\n",
    "import numpy as np\n",
    "import matplotlib.pyplot as plt\n",
    "img_data, header = nrrd.read(\"/mnt/newdisk/MultiLLMdata/data/chongyisan/data/3.nrrd\")"
   ]
  },
  {
   "cell_type": "code",
   "execution_count": 9,
   "metadata": {},
   "outputs": [
    {
     "data": {
      "text/plain": [
       "(512, 512, 72)"
      ]
     },
     "execution_count": 9,
     "metadata": {},
     "output_type": "execute_result"
    }
   ],
   "source": [
    "img_data.shape"
   ]
  },
  {
   "cell_type": "code",
   "execution_count": 10,
   "metadata": {},
   "outputs": [
    {
     "data": {
      "text/plain": [
       "72"
      ]
     },
     "execution_count": 10,
     "metadata": {},
     "output_type": "execute_result"
    }
   ],
   "source": [
    "img_data.shape[2]"
   ]
  },
  {
   "cell_type": "code",
   "execution_count": 6,
   "metadata": {},
   "outputs": [],
   "source": [
    "slice_data=img_data[:,:,1]\n",
    "\n",
    "slice_data = np.rot90(slice_data)"
   ]
  },
  {
   "cell_type": "code",
   "execution_count": 7,
   "metadata": {},
   "outputs": [],
   "source": [
    "plt.imsave('./1.jpg', slice_data, cmap='gray')"
   ]
  }
 ],
 "metadata": {
  "kernelspec": {
   "display_name": "llama_factory",
   "language": "python",
   "name": "python3"
  },
  "language_info": {
   "codemirror_mode": {
    "name": "ipython",
    "version": 3
   },
   "file_extension": ".py",
   "mimetype": "text/x-python",
   "name": "python",
   "nbconvert_exporter": "python",
   "pygments_lexer": "ipython3",
   "version": "3.10.14"
  }
 },
 "nbformat": 4,
 "nbformat_minor": 2
}
